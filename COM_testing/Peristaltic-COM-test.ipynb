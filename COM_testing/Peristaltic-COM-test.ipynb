{
 "cells": [
  {
   "cell_type": "code",
   "execution_count": null,
   "id": "f6da9ba5",
   "metadata": {},
   "outputs": [],
   "source": [
    "import serial\n",
    "ser = serial.Serial()\n",
    "timeout =1\n",
    "ser.baudrate = 9600\n",
    "ser.port = \"COM4\"\n",
    "ser\n",
    "\n",
    "def datasend(cmd):\n",
    "    #Frame structure is STX S-A E-A LNG DAT CRC ETX\n",
    "    #entering hexcode value eg: 'P' --> 0x70 --> \"70\"\n",
    "    ascii_cmd_val = bytearray.fromhex(cmd).decode()\n",
    "    print(ascii_cmd_val)\n",
    "\n",
    "    import crc8\n",
    "    hash = crc8.crc8()\n",
    "    hash.update(b'\\x02\\01\\x04\\x01\\70')\n",
    "    crc_val = hash.hexdigest()\n",
    "    print(crc_val)\n",
    "\n",
    "    #length_hexval = hex(len(ascii_cmd_val))\n",
    "    #print(length_hexval)\n",
    "    #listed_values = [f'{len(ascii_cmd_val)}', ascii_cmd_val]\n",
    "    #print(listed_values)\n",
    "    \n",
    "    #hex_start = '\\x02\\x01\\x04'\n",
    "    #hexdata_structure = hex_start + length_hexval + ascii_cmd_val + crc_val + '\\x03'\n",
    "    #print(hexdata_structure)\n",
    "\n",
    "    hexdatahardcode = '\\x02\\x01\\x04\\x01\\x70\\xc4\\x03'\n",
    "    print(hexdatahardcode)\n",
    "    ser.write(hexdatahardcode)\n",
    "    s = ser.read(7)\n",
    "\n"
   ]
  },
  {
   "cell_type": "code",
   "execution_count": null,
   "id": "bf7c524f",
   "metadata": {},
   "outputs": [],
   "source": [
    "#test crc8 hash calculation hard coded values for 'B' STX S-A E-A 0x01 0x42\n",
    "import crc8\n",
    "hash = crc8.crc8()\n",
    "hash.update(b'\\x02\\01\\x04\\x01\\x42')\n",
    "print(hash.hexdigest())"
   ]
  },
  {
   "cell_type": "code",
   "execution_count": null,
   "id": "874907af",
   "metadata": {},
   "outputs": [],
   "source": [
    "datasend(\"70\")\n"
   ]
  },
  {
   "cell_type": "code",
   "execution_count": 1,
   "id": "59a92403",
   "metadata": {},
   "outputs": [
    {
     "ename": "PortNotOpenError",
     "evalue": "Attempting to use a port that is not open",
     "output_type": "error",
     "traceback": [
      "\u001b[1;31m---------------------------------------------------------------------------\u001b[0m",
      "\u001b[1;31mPortNotOpenError\u001b[0m                          Traceback (most recent call last)",
      "Cell \u001b[1;32mIn[1], line 6\u001b[0m\n\u001b[0;32m      4\u001b[0m ser\u001b[39m.\u001b[39mbaudrate \u001b[39m=\u001b[39m \u001b[39m9600\u001b[39m\n\u001b[0;32m      5\u001b[0m ser\u001b[39m.\u001b[39mport \u001b[39m=\u001b[39m \u001b[39m\"\u001b[39m\u001b[39mCOM4\u001b[39m\u001b[39m\"\u001b[39m\n\u001b[1;32m----> 6\u001b[0m ser\u001b[39m.\u001b[39;49mwrite(\u001b[39mb\u001b[39;49m\u001b[39m'\u001b[39;49m\u001b[39m\\x02\u001b[39;49;00m\u001b[39m\\x01\u001b[39;49;00m\u001b[39m\\x04\u001b[39;49;00m\u001b[39m\\x01\u001b[39;49;00m\u001b[39m\\x70\u001b[39;49;00m\u001b[39m\\xc4\u001b[39;49;00m\u001b[39m\\x03\u001b[39;49;00m\u001b[39m'\u001b[39;49m)\n\u001b[0;32m      7\u001b[0m ser\u001b[39m.\u001b[39mread(\u001b[39m7\u001b[39m)\n",
      "File \u001b[1;32mc:\\Python311\\Lib\\site-packages\\serial\\serialwin32.py:306\u001b[0m, in \u001b[0;36mSerial.write\u001b[1;34m(self, data)\u001b[0m\n\u001b[0;32m    304\u001b[0m \u001b[39m\u001b[39m\u001b[39m\"\"\"Output the given byte string over the serial port.\"\"\"\u001b[39;00m\n\u001b[0;32m    305\u001b[0m \u001b[39mif\u001b[39;00m \u001b[39mnot\u001b[39;00m \u001b[39mself\u001b[39m\u001b[39m.\u001b[39mis_open:\n\u001b[1;32m--> 306\u001b[0m     \u001b[39mraise\u001b[39;00m PortNotOpenError()\n\u001b[0;32m    307\u001b[0m \u001b[39m#~ if not isinstance(data, (bytes, bytearray)):\u001b[39;00m\n\u001b[0;32m    308\u001b[0m     \u001b[39m#~ raise TypeError('expected %s or bytearray, got %s' % (bytes, type(data)))\u001b[39;00m\n\u001b[0;32m    309\u001b[0m \u001b[39m# convert data (needed in case of memoryview instance: Py 3.1 io lib), ctypes doesn't like memoryview\u001b[39;00m\n\u001b[0;32m    310\u001b[0m data \u001b[39m=\u001b[39m to_bytes(data)\n",
      "\u001b[1;31mPortNotOpenError\u001b[0m: Attempting to use a port that is not open"
     ]
    }
   ],
   "source": [
    "import serial\n",
    "ser = serial.Serial()\n",
    "timeout =1\n",
    "ser.baudrate = 9600\n",
    "ser.port = \"COM4\"\n",
    "ser.write(b'\\x02\\x01\\x04\\x01\\x70\\xc4\\x03')\n",
    "ser.read(7)"
   ]
  }
 ],
 "metadata": {
  "kernelspec": {
   "display_name": "Python 3 (ipykernel)",
   "language": "python",
   "name": "python3"
  },
  "language_info": {
   "codemirror_mode": {
    "name": "ipython",
    "version": 3
   },
   "file_extension": ".py",
   "mimetype": "text/x-python",
   "name": "python",
   "nbconvert_exporter": "python",
   "pygments_lexer": "ipython3",
   "version": "3.11.4"
  }
 },
 "nbformat": 4,
 "nbformat_minor": 5
}
